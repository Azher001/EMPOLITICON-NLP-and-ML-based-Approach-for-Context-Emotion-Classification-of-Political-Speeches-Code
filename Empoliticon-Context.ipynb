{
 "cells": [
  {
   "cell_type": "code",
   "execution_count": null,
   "id": "23a0e3f7",
   "metadata": {},
   "outputs": [],
   "source": [
    "import os\n",
    "import re\n",
    "import nltk\n",
    "import sklearn\n",
    "import pandas as pd\n",
    "from tqdm.notebook import tqdm, trange\n",
    "from nltk.corpus import stopwords\n",
    "from nltk.tokenize import word_tokenize, sent_tokenize\n",
    "from nltk.stem import WordNetLemmatizer\n",
    "nltk.download('averaged_perceptron_tagger')\n",
    "from imblearn.over_sampling import SMOTEN\n",
    "\n",
    "import matplotlib.pyplot as plt\n",
    "import warnings\n",
    "warnings.filterwarnings(\"ignore\",category=DeprecationWarning)\n",
    "import numpy as np\n",
    "\n",
    "import xgboost as xgb\n",
    "from catboost import CatBoostClassifier\n",
    "from sklearn.discriminant_analysis import LinearDiscriminantAnalysis\n",
    "from sklearn.ensemble import VotingClassifier\n",
    "from sklearn import svm\n",
    "from sklearn.metrics import confusion_matrix\n",
    "import seaborn as sns\n",
    "from sklearn import metrics\n",
    "from sklearn.metrics import roc_curve\n",
    "from sklearn.metrics import roc_auc_score, auc, roc_curve\n",
    "from sklearn.preprocessing import LabelBinarizer"
   ]
  },
  {
   "cell_type": "code",
   "execution_count": null,
   "id": "f463837c",
   "metadata": {},
   "outputs": [],
   "source": [
    "df=pd.read_csv(\"Dataset_Longformer_Embedded.csv.csv\")"
   ]
  },
  {
   "cell_type": "code",
   "execution_count": null,
   "id": "cda35258",
   "metadata": {},
   "outputs": [],
   "source": [
    "dfFeatures = df.iloc[:, 0:768]"
   ]
  },
  {
   "cell_type": "code",
   "execution_count": null,
   "id": "40a33f7d",
   "metadata": {},
   "outputs": [],
   "source": [
    "dfTarget = df['Context']"
   ]
  },
  {
   "cell_type": "code",
   "execution_count": null,
   "id": "6686979d",
   "metadata": {},
   "outputs": [],
   "source": [
    "# not yet... this will be updated accordingly\n",
    "nltk_data_path = os.popen('which python').read().replace('bin/python\\n', '').strip() + 'nltk_data/'\n",
    "nltk.download('stopwords', download_dir=nltk_data_path)"
   ]
  },
  {
   "cell_type": "code",
   "execution_count": null,
   "id": "2dd38b62",
   "metadata": {},
   "outputs": [],
   "source": [
    "from sklearn.model_selection import train_test_split\n",
    "X_train,X_test,y_train, y_test = train_test_split(dfFeatures, dfTarget, test_size=0.3,random_state=109,stratify=dfTarget)"
   ]
  },
  {
   "cell_type": "code",
   "execution_count": null,
   "id": "b33fab78",
   "metadata": {},
   "outputs": [],
   "source": [
    "from imblearn.over_sampling import SMOTEN\n",
    "sm = SMOTEN(random_state=42)\n",
    "X_res, y_res = sm.fit_resample(X_train, y_train)"
   ]
  },
  {
   "cell_type": "code",
   "execution_count": null,
   "id": "289d7fd5",
   "metadata": {},
   "outputs": [],
   "source": [
    "target_train=pd.DataFrame(y_res)\n",
    "df_test=pd.DataFrame(X_test)\n",
    "df_train=pd.DataFrame(X_res)\n",
    "target_test=pd.DataFrame(y_test)\n",
    "df_test['Context'] = target_test['Context']\n",
    "df_train['Context'] = target_train['Context']"
   ]
  },
  {
   "cell_type": "code",
   "execution_count": null,
   "id": "77cb96f2",
   "metadata": {},
   "outputs": [],
   "source": [
    "context_map = {\n",
    "    'DEVELOPMENT' : 0,\n",
    "    'NATIONALISM' : 1,\n",
    "    'EXTREMISM' : 2,\n",
    "    'INTERNATIONAL' : 3,\n",
    "    'OTHERS' : 4,\n",
    "    0 : 'DEVELOPMENT',\n",
    "    1 : 'NATIONALISM',\n",
    "    2 : 'EXTREMISM',\n",
    "    3 : 'INTERNATIONAL',\n",
    "    4 : 'OTHERS',\n",
    "\n",
    "}\n",
    "\n",
    "maps = {\n",
    "    'Context' : context_map,\n",
    "}"
   ]
  },
  {
   "cell_type": "code",
   "execution_count": null,
   "id": "73178e0e",
   "metadata": {},
   "outputs": [],
   "source": [
    "df_train['Context'] = df_train['Context'].apply(lambda x : maps[\"Context\"][x])\n",
    "df_test['Context'] = df_test['Context'].apply(lambda x : maps[\"Context\"][x])"
   ]
  },
  {
   "cell_type": "code",
   "execution_count": null,
   "id": "c4cb34c9",
   "metadata": {},
   "outputs": [],
   "source": [
    "class_names=[\"DEVELOPMENT\",\"NATIONALISM\",\"EXTREMISM\",\"INTERNATIONAL AFFAIRS\", \"OTHERS\"]"
   ]
  },
  {
   "cell_type": "code",
   "execution_count": null,
   "id": "9ad9f67e",
   "metadata": {},
   "outputs": [],
   "source": [
    "\n",
    "label_binarizer = LabelBinarizer().fit(df_train['Context'])\n",
    "y_onehot_test = label_binarizer.transform(df_test['Context'])\n",
    "y_onehot_test.shape  # (n_samples, n_classes)"
   ]
  },
  {
   "cell_type": "code",
   "execution_count": null,
   "id": "df4bf61c",
   "metadata": {},
   "outputs": [],
   "source": [
    "model2 = CatBoostClassifier(n_estimators=1550,\n",
    "                        learning_rate=0.1,\n",
    "                        depth=5, task_type='CPU',\n",
    "                        random_state=1,\n",
    "                        verbose=False)\n",
    "\n",
    "model5 = LinearDiscriminantAnalysis(solver='lsqr', shrinkage='auto')\n",
    "model6 = svm.NuSVC(decision_function_shape='ovr',break_ties=True,probability=True)"
   ]
  },
  {
   "cell_type": "code",
   "execution_count": null,
   "id": "32c82e75",
   "metadata": {},
   "outputs": [],
   "source": [
    "model = VotingClassifier(estimators=[('nusvc',model6 ), ('cat', model2), ('lin', model5)], voting='soft')"
   ]
  },
  {
   "cell_type": "code",
   "execution_count": null,
   "id": "c417e407",
   "metadata": {},
   "outputs": [],
   "source": [
    "model.fit(df_train.iloc[:, 0:768], df_train['Context'])"
   ]
  },
  {
   "cell_type": "code",
   "execution_count": null,
   "id": "81e19e53",
   "metadata": {},
   "outputs": [],
   "source": [
    "model.score(df_test.iloc[:, 0:768], df_test['Context'])"
   ]
  },
  {
   "cell_type": "code",
   "execution_count": null,
   "id": "724f5962",
   "metadata": {},
   "outputs": [],
   "source": [
    "y_pred=model.predict(df_test.iloc[:, 0:768])"
   ]
  },
  {
   "cell_type": "code",
   "execution_count": null,
   "id": "dc239c97",
   "metadata": {},
   "outputs": [],
   "source": [
    "\n",
    "def show_confusion_matrix(confusion_matrix):\n",
    "   hmap= sns.heatmap(confusion_matrix, annot=True, fmt=\"d\", cmap=\"Blues\")\n",
    "   hmap.yaxis.set_ticklabels(hmap.yaxis.get_ticklabels(), rotation=0, ha='right')\n",
    "   hmap.xaxis.set_ticklabels(hmap.xaxis.get_ticklabels(), rotation=30, ha='right')\n",
    "   plt.ylabel('True Context')\n",
    "   plt.xlabel('Predicted Context');\n",
    "\n",
    "cm = confusion_matrix(df_test['Context'], y_pred)\n",
    "df_cm = pd.DataFrame(cm, index=class_names, columns=class_names)\n",
    "show_confusion_matrix(df_cm)"
   ]
  },
  {
   "cell_type": "code",
   "execution_count": null,
   "id": "a7fcaaa8",
   "metadata": {},
   "outputs": [],
   "source": [
    "\n",
    "print(metrics.classification_report(df_test['Context'], y_pred))"
   ]
  },
  {
   "cell_type": "code",
   "execution_count": null,
   "id": "d71939a1",
   "metadata": {},
   "outputs": [],
   "source": [
    "y_score_proba = model.predict_proba(df_test.iloc[:, 0:768])"
   ]
  },
  {
   "cell_type": "code",
   "execution_count": null,
   "id": "59ad0b6e",
   "metadata": {},
   "outputs": [],
   "source": [
    "# actual_labels_binarized = label_binarize(actual_labels, classes=category_list)\n",
    "category_list = [\"DEVELOPMENT\",\"NATIONALISM\",\"EXTREMISM\",\"INTERNATIONAL AFFAIRS\", \"OTHERS\"]\n",
    "fpr = {} # False Positive Rate\n",
    "tpr = {} # True Positive Rate\n",
    "thresh ={} # Threshold\n",
    "roc_auc = dict()\n",
    "\n",
    "# plt.figure(figsize = (10, 7))\n",
    "for i in range(5):\n",
    "    fpr[i], tpr[i], thresh[i] = roc_curve(y_onehot_test[:, i], y_score_proba[:, i])\n",
    "    roc_auc[i] = auc(fpr[i], tpr[i])\n",
    "    \n",
    "    plt.plot(fpr[i], tpr[i], linestyle='--', \n",
    "             label='%s vs Rest (AUC=%0.2f)'%(category_list[i],roc_auc[i]))\n",
    "\n",
    "\n",
    "plt.plot([0,1],[0,1],'b--')\n",
    "plt.xlim([0,1])\n",
    "plt.ylim([0,1.05])\n",
    "# plt.title('Multiclass ROC curve of Linear Discriminant Analysis')\n",
    "plt.xlabel('False Positive Rate')\n",
    "plt.ylabel('True Positive rate')\n",
    "plt.legend(loc='lower right')\n",
    "plt.show()"
   ]
  }
 ],
 "metadata": {
  "kernelspec": {
   "display_name": "Python 3 (ipykernel)",
   "language": "python",
   "name": "python3"
  },
  "language_info": {
   "codemirror_mode": {
    "name": "ipython",
    "version": 3
   },
   "file_extension": ".py",
   "mimetype": "text/x-python",
   "name": "python",
   "nbconvert_exporter": "python",
   "pygments_lexer": "ipython3",
   "version": "3.9.7"
  }
 },
 "nbformat": 4,
 "nbformat_minor": 5
}
