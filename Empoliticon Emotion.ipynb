{
 "cells": [
  {
   "cell_type": "code",
   "execution_count": null,
   "id": "b218a2ce",
   "metadata": {},
   "outputs": [],
   "source": [
    "import os\n",
    "import re\n",
    "import nltk\n",
    "import sklearn\n",
    "import pandas as pd\n",
    "from tqdm.notebook import tqdm, trange\n",
    "from nltk.corpus import stopwords\n",
    "from nltk.tokenize import word_tokenize, sent_tokenize\n",
    "from nltk.stem import WordNetLemmatizer\n",
    "nltk.download('averaged_perceptron_tagger')\n",
    "import numpy as np\n",
    "import matplotlib.pyplot as plt\n",
    "import warnings\n",
    "warnings.filterwarnings(\"ignore\",category=DeprecationWarning)\n",
    "\n",
    "import xgboost as xgb\n",
    "from sklearn.metrics import confusion_matrix\n",
    "import seaborn as sns\n",
    "from sklearn.preprocessing import LabelBinarizer\n",
    "from catboost import CatBoostClassifier\n",
    "from sklearn.ensemble import GradientBoostingClassifier\n",
    "from sklearn.discriminant_analysis import LinearDiscriminantAnalysis\n",
    "from sklearn.ensemble import VotingClassifier\n",
    "from sklearn.metrics import roc_curve\n",
    "from sklearn.metrics import roc_auc_score, auc, roc_curve\n",
    "from sklearn.metrics import RocCurveDisplay"
   ]
  },
  {
   "cell_type": "code",
   "execution_count": null,
   "id": "858b5de4",
   "metadata": {},
   "outputs": [],
   "source": [
    "#Train test dataset was created using sci-kit learn\n",
    "\n",
    "df_train=pd.read_csv(\"train_for_Emotion_oversample_copy\")\n",
    "df_test=pd.read_csv(\"test_for_Emotion_oversample_copy\")"
   ]
  },
  {
   "cell_type": "code",
   "execution_count": null,
   "id": "d4f343e4",
   "metadata": {},
   "outputs": [],
   "source": [
    "data={}"
   ]
  },
  {
   "cell_type": "code",
   "execution_count": null,
   "id": "6a120cb3",
   "metadata": {},
   "outputs": [],
   "source": [
    "trainData=df_train"
   ]
  },
  {
   "cell_type": "code",
   "execution_count": null,
   "id": "59eafd42",
   "metadata": {},
   "outputs": [],
   "source": [
    "for x in trainData.columns.values:\n",
    "    data[x]=[]"
   ]
  },
  {
   "cell_type": "code",
   "execution_count": null,
   "id": "39224b66",
   "metadata": {},
   "outputs": [],
   "source": [
    "dfOUS=pd.DataFrame(data)"
   ]
  },
  {
   "cell_type": "code",
   "execution_count": null,
   "id": "a724bc4b",
   "metadata": {},
   "outputs": [],
   "source": [
    "#Method to oversample the training dataset based on label and given cap. #cap is the highest amount of a class in training data\n",
    "def sample(sourceDataframe,destDataframe,label,cap):\n",
    "    remaining=cap\n",
    "    for i in range(len(sourceDataframe)):\n",
    "        if remaining<=0:\n",
    "            break\n",
    "        if (sourceDataframe[\"Emotion\"][i] ==label) and (remaining >0):\n",
    "            new={}\n",
    "            for x in sourceDataframe.columns.values:\n",
    "                new[x]=sourceDataframe[x][i]\n",
    "            destDataframe=destDataframe.append(new,ignore_index=True)\n",
    "            remaining-=1\n",
    "        \n",
    "    return destDataframe"
   ]
  },
  {
   "cell_type": "code",
   "execution_count": null,
   "id": "e79f3406",
   "metadata": {},
   "outputs": [],
   "source": [
    "#oversampling the train dataset\n",
    "targetCap=412\n",
    "for labelTarget in [0,1,2,3]:\n",
    "    while True:\n",
    "        try:\n",
    "            if (dfOUS['Emotion'].value_counts()[labelTarget]>targetCap):\n",
    "                dfOUS=sample(trainData,dfOUS,labelTarget,targetCap)\n",
    "            elif (dfOUS['Emotion'].value_counts()[labelTarget]<targetCap):\n",
    "                cap=targetCap-dfOUS['Emotion'].value_counts()[labelTarget]\n",
    "                dfOUS=sample(trainData,dfOUS,labelTarget,cap)\n",
    "            elif (dfOUS['Emotion'].value_counts()[labelTarget]==targetCap):\n",
    "                break\n",
    "        except:\n",
    "            dfOUS=sample(trainData,dfOUS,labelTarget,targetCap)"
   ]
  },
  {
   "cell_type": "code",
   "execution_count": null,
   "id": "f3832aff",
   "metadata": {},
   "outputs": [],
   "source": [
    "df_train = dfOUS"
   ]
  },
  {
   "cell_type": "code",
   "execution_count": null,
   "id": "2851c9e8",
   "metadata": {},
   "outputs": [],
   "source": [
    "class_names=[\"OPTIMISM\",\"NEUTRAL\",\"JOY\",\"UPSET\"]"
   ]
  },
  {
   "cell_type": "code",
   "execution_count": null,
   "id": "1390dd9e",
   "metadata": {},
   "outputs": [],
   "source": [
    "label_binarizer = LabelBinarizer().fit(df_train['Emotion'])\n",
    "y_onehot_test = label_binarizer.transform(df_test['Emotion'])\n",
    "y_onehot_test.shape  # (n_samples, n_classes)"
   ]
  },
  {
   "cell_type": "code",
   "execution_count": null,
   "id": "b5302a04",
   "metadata": {},
   "outputs": [],
   "source": [
    "model1 = xgb.XGBClassifier(random_state=1,learning_rate=0.01)\n",
    "model2 = CatBoostClassifier(n_estimators=1550,\n",
    "                        learning_rate=0.1,\n",
    "                        depth=5, task_type='CPU',\n",
    "                        random_state=1,\n",
    "                        verbose=False)\n",
    "\n",
    "model5 = LinearDiscriminantAnalysis(solver='lsqr', shrinkage='auto')\n"
   ]
  },
  {
   "cell_type": "code",
   "execution_count": null,
   "id": "8077cfeb",
   "metadata": {},
   "outputs": [],
   "source": [
    "model = VotingClassifier(estimators=[('xgb', model1),  ('cat', model2), ('lin', model5)], voting='soft')\n"
   ]
  },
  {
   "cell_type": "code",
   "execution_count": null,
   "id": "e8382bc7",
   "metadata": {},
   "outputs": [],
   "source": [
    "model.fit(df_train.iloc[:, 0:768], df_train['Emotion'])"
   ]
  },
  {
   "cell_type": "code",
   "execution_count": null,
   "id": "d0ca6125",
   "metadata": {},
   "outputs": [],
   "source": [
    "model.score(df_test.iloc[:, 0:768], df_test['Emotion'])"
   ]
  },
  {
   "cell_type": "code",
   "execution_count": null,
   "id": "c9d3342c",
   "metadata": {},
   "outputs": [],
   "source": [
    "y_pred=model.predict(df_test.iloc[:, 0:768])"
   ]
  },
  {
   "cell_type": "code",
   "execution_count": null,
   "id": "9f04c9e6",
   "metadata": {},
   "outputs": [],
   "source": [
    "def show_confusion_matrix(confusion_matrix):\n",
    "   hmap= sns.heatmap(confusion_matrix, annot=True, fmt=\"d\", cmap=\"Blues\")\n",
    "   hmap.yaxis.set_ticklabels(hmap.yaxis.get_ticklabels(), rotation=0, ha='right')\n",
    "   hmap.xaxis.set_ticklabels(hmap.xaxis.get_ticklabels(), rotation=30, ha='right')\n",
    "   plt.ylabel('True Emotion')\n",
    "   plt.xlabel('Predicted Emotion');\n",
    "\n",
    "cm = confusion_matrix(df_test['Emotion'], y_pred)\n",
    "df_cm = pd.DataFrame(cm, index=class_names, columns=class_names)\n",
    "show_confusion_matrix(df_cm)"
   ]
  },
  {
   "cell_type": "code",
   "execution_count": null,
   "id": "38cc6794",
   "metadata": {},
   "outputs": [],
   "source": [
    "from sklearn import metrics\n",
    "print(metrics.classification_report(df_test['Emotion'], y_pred))"
   ]
  },
  {
   "cell_type": "code",
   "execution_count": null,
   "id": "ef26edae",
   "metadata": {},
   "outputs": [],
   "source": [
    "y_score_proba = model.predict_proba(df_test.iloc[:, 0:768])"
   ]
  },
  {
   "cell_type": "code",
   "execution_count": null,
   "id": "4c088d03",
   "metadata": {},
   "outputs": [],
   "source": [
    "# actual_labels_binarized = label_binarize(actual_labels, classes=category_list)\n",
    "category_list = [\"OPTIMISM\",\"NEUTRAL\",\"JOY\",\"UPSET\"]\n",
    "fpr = {} # False Positive Rate\n",
    "tpr = {} # True Positive Rate\n",
    "thresh ={} # Threshold\n",
    "roc_auc = dict()\n",
    "\n",
    "# plt.figure(figsize = (10, 7))\n",
    "for i in range(4):\n",
    "    fpr[i], tpr[i], thresh[i] = roc_curve(y_onehot_test[:, i], y_score_proba[:, i])\n",
    "    roc_auc[i] = auc(fpr[i], tpr[i])\n",
    "    \n",
    "    plt.plot(fpr[i], tpr[i], linestyle='--', \n",
    "             label='%s vs Rest (AUC=%0.2f)'%(category_list[i],roc_auc[i]))\n",
    "\n",
    "\n",
    "plt.plot([0,1],[0,1],'b--')\n",
    "plt.xlim([0,1])\n",
    "plt.ylim([0,1.05])\n",
    "plt.title('Multiclass ROC curve of XGB Classifier')\n",
    "plt.xlabel('False Positive Rate')\n",
    "plt.ylabel('True Positive rate')\n",
    "plt.legend(loc='lower right')\n",
    "plt.show()"
   ]
  }
 ],
 "metadata": {
  "kernelspec": {
   "display_name": "Python 3 (ipykernel)",
   "language": "python",
   "name": "python3"
  },
  "language_info": {
   "codemirror_mode": {
    "name": "ipython",
    "version": 3
   },
   "file_extension": ".py",
   "mimetype": "text/x-python",
   "name": "python",
   "nbconvert_exporter": "python",
   "pygments_lexer": "ipython3",
   "version": "3.9.7"
  }
 },
 "nbformat": 4,
 "nbformat_minor": 5
}
